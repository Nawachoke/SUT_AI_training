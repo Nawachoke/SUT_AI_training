{
 "cells": [
  {
   "cell_type": "code",
   "execution_count": 1,
   "metadata": {},
   "outputs": [],
   "source": [
    "import numpy as np\n",
    "import matplotlib.pyplot as plt\n",
    "import pandas as pd\n",
    "from sklearn.datasets import make_classification\n",
    "from sklearn.model_selection import train_test_split\n",
    "from sklearn.ensemble import RandomForestClassifier\n",
    "from sklearn.neighbors import KNeighborsClassifier\n",
    "from sklearn.svm import SVC\n",
    "from sklearn.model_selection import GridSearchCV, RandomizedSearchCV\n",
    "import time"
   ]
  },
  {
   "cell_type": "code",
   "execution_count": 2,
   "metadata": {},
   "outputs": [
    {
     "data": {
      "text/html": [
       "<div>\n",
       "<style scoped>\n",
       "    .dataframe tbody tr th:only-of-type {\n",
       "        vertical-align: middle;\n",
       "    }\n",
       "\n",
       "    .dataframe tbody tr th {\n",
       "        vertical-align: top;\n",
       "    }\n",
       "\n",
       "    .dataframe thead th {\n",
       "        text-align: right;\n",
       "    }\n",
       "</style>\n",
       "<table border=\"1\" class=\"dataframe\">\n",
       "  <thead>\n",
       "    <tr style=\"text-align: right;\">\n",
       "      <th></th>\n",
       "      <th>Building Type</th>\n",
       "      <th>Square Footage</th>\n",
       "      <th>Number of Occupants</th>\n",
       "      <th>Appliances Used</th>\n",
       "      <th>Average Temperature</th>\n",
       "      <th>Day of Week</th>\n",
       "      <th>Energy Consumption</th>\n",
       "    </tr>\n",
       "  </thead>\n",
       "  <tbody>\n",
       "    <tr>\n",
       "      <th>0</th>\n",
       "      <td>Residential</td>\n",
       "      <td>7063</td>\n",
       "      <td>76</td>\n",
       "      <td>10</td>\n",
       "      <td>29.84</td>\n",
       "      <td>Weekday</td>\n",
       "      <td>2713.95</td>\n",
       "    </tr>\n",
       "    <tr>\n",
       "      <th>1</th>\n",
       "      <td>Commercial</td>\n",
       "      <td>44372</td>\n",
       "      <td>66</td>\n",
       "      <td>45</td>\n",
       "      <td>16.72</td>\n",
       "      <td>Weekday</td>\n",
       "      <td>5744.99</td>\n",
       "    </tr>\n",
       "    <tr>\n",
       "      <th>2</th>\n",
       "      <td>Industrial</td>\n",
       "      <td>19255</td>\n",
       "      <td>37</td>\n",
       "      <td>17</td>\n",
       "      <td>14.30</td>\n",
       "      <td>Weekend</td>\n",
       "      <td>4101.24</td>\n",
       "    </tr>\n",
       "    <tr>\n",
       "      <th>3</th>\n",
       "      <td>Residential</td>\n",
       "      <td>13265</td>\n",
       "      <td>14</td>\n",
       "      <td>41</td>\n",
       "      <td>32.82</td>\n",
       "      <td>Weekday</td>\n",
       "      <td>3009.14</td>\n",
       "    </tr>\n",
       "    <tr>\n",
       "      <th>4</th>\n",
       "      <td>Commercial</td>\n",
       "      <td>13375</td>\n",
       "      <td>26</td>\n",
       "      <td>18</td>\n",
       "      <td>11.92</td>\n",
       "      <td>Weekday</td>\n",
       "      <td>3279.17</td>\n",
       "    </tr>\n",
       "    <tr>\n",
       "      <th>5</th>\n",
       "      <td>Commercial</td>\n",
       "      <td>37377</td>\n",
       "      <td>26</td>\n",
       "      <td>32</td>\n",
       "      <td>16.24</td>\n",
       "      <td>Weekend</td>\n",
       "      <td>4687.67</td>\n",
       "    </tr>\n",
       "    <tr>\n",
       "      <th>6</th>\n",
       "      <td>Industrial</td>\n",
       "      <td>38638</td>\n",
       "      <td>92</td>\n",
       "      <td>14</td>\n",
       "      <td>21.01</td>\n",
       "      <td>Weekend</td>\n",
       "      <td>5526.83</td>\n",
       "    </tr>\n",
       "    <tr>\n",
       "      <th>7</th>\n",
       "      <td>Residential</td>\n",
       "      <td>34950</td>\n",
       "      <td>60</td>\n",
       "      <td>18</td>\n",
       "      <td>28.24</td>\n",
       "      <td>Weekday</td>\n",
       "      <td>4116.32</td>\n",
       "    </tr>\n",
       "    <tr>\n",
       "      <th>8</th>\n",
       "      <td>Industrial</td>\n",
       "      <td>29741</td>\n",
       "      <td>99</td>\n",
       "      <td>44</td>\n",
       "      <td>13.08</td>\n",
       "      <td>Weekday</td>\n",
       "      <td>5841.65</td>\n",
       "    </tr>\n",
       "    <tr>\n",
       "      <th>9</th>\n",
       "      <td>Residential</td>\n",
       "      <td>17467</td>\n",
       "      <td>42</td>\n",
       "      <td>36</td>\n",
       "      <td>28.84</td>\n",
       "      <td>Weekday</td>\n",
       "      <td>3419.13</td>\n",
       "    </tr>\n",
       "  </tbody>\n",
       "</table>\n",
       "</div>"
      ],
      "text/plain": [
       "  Building Type  Square Footage  Number of Occupants  Appliances Used  \\\n",
       "0   Residential            7063                   76               10   \n",
       "1    Commercial           44372                   66               45   \n",
       "2    Industrial           19255                   37               17   \n",
       "3   Residential           13265                   14               41   \n",
       "4    Commercial           13375                   26               18   \n",
       "5    Commercial           37377                   26               32   \n",
       "6    Industrial           38638                   92               14   \n",
       "7   Residential           34950                   60               18   \n",
       "8    Industrial           29741                   99               44   \n",
       "9   Residential           17467                   42               36   \n",
       "\n",
       "   Average Temperature Day of Week  Energy Consumption  \n",
       "0                29.84     Weekday             2713.95  \n",
       "1                16.72     Weekday             5744.99  \n",
       "2                14.30     Weekend             4101.24  \n",
       "3                32.82     Weekday             3009.14  \n",
       "4                11.92     Weekday             3279.17  \n",
       "5                16.24     Weekend             4687.67  \n",
       "6                21.01     Weekend             5526.83  \n",
       "7                28.24     Weekday             4116.32  \n",
       "8                13.08     Weekday             5841.65  \n",
       "9                28.84     Weekday             3419.13  "
      ]
     },
     "execution_count": 2,
     "metadata": {},
     "output_type": "execute_result"
    }
   ],
   "source": [
    "data = pd.read_csv('../day10/data/energy_data.csv')\n",
    "data.head(10)"
   ]
  },
  {
   "cell_type": "code",
   "execution_count": 3,
   "metadata": {},
   "outputs": [
    {
     "name": "stdout",
     "output_type": "stream",
     "text": [
      "<class 'pandas.core.frame.DataFrame'>\n",
      "RangeIndex: 1100 entries, 0 to 1099\n",
      "Data columns (total 7 columns):\n",
      " #   Column               Non-Null Count  Dtype  \n",
      "---  ------               --------------  -----  \n",
      " 0   Building Type        1100 non-null   object \n",
      " 1   Square Footage       1100 non-null   int64  \n",
      " 2   Number of Occupants  1100 non-null   int64  \n",
      " 3   Appliances Used      1100 non-null   int64  \n",
      " 4   Average Temperature  1100 non-null   float64\n",
      " 5   Day of Week          1100 non-null   object \n",
      " 6   Energy Consumption   1100 non-null   float64\n",
      "dtypes: float64(2), int64(3), object(2)\n",
      "memory usage: 60.3+ KB\n"
     ]
    }
   ],
   "source": [
    "data.info()"
   ]
  },
  {
   "cell_type": "code",
   "execution_count": 4,
   "metadata": {},
   "outputs": [],
   "source": [
    "data['Energy Usage Density'] = data['Appliances Used'] / (data['Number of Occupants'] + 1)\n",
    "data['Temperature Anomaly'] = abs(data['Average Temperature'] - 22)"
   ]
  },
  {
   "cell_type": "code",
   "execution_count": 5,
   "metadata": {},
   "outputs": [
    {
     "name": "stdout",
     "output_type": "stream",
     "text": [
      "Index(['Square Footage', 'Number of Occupants', 'Appliances Used',\n",
      "       'Average Temperature', 'Energy Usage Density', 'Temperature Anomaly'],\n",
      "      dtype='object')\n",
      "Index(['Building Type', 'Day of Week'], dtype='object')\n"
     ]
    }
   ],
   "source": [
    "from sklearn.preprocessing import StandardScaler, OneHotEncoder, MinMaxScaler\n",
    "from sklearn.pipeline import Pipeline\n",
    "from sklearn.compose import ColumnTransformer\n",
    "from sklearn.impute import SimpleImputer\n",
    "from sklearn.model_selection import train_test_split\n",
    "X = data.drop('Energy Consumption', axis=1)\n",
    "y = data['Energy Consumption']\n",
    "num_features = X.select_dtypes(include=['int64','float64']).columns\n",
    "cat_features = X.select_dtypes(include=object).columns\n",
    "print(num_features)\n",
    "print(cat_features)\n",
    "numeric_transformer = Pipeline(steps=[\n",
    "    ('imputer', SimpleImputer(strategy='median')),\n",
    "    ('scaler', MinMaxScaler())\n",
    "])\n",
    "categorical_transformer = Pipeline(steps=[\n",
    "    ('imputer', SimpleImputer(strategy='most_frequent')),\n",
    "    ('label', OneHotEncoder())\n",
    "])\n",
    "preprocessor = ColumnTransformer(\n",
    "    transformers=[\n",
    "        ('num',numeric_transformer, num_features),\n",
    "        ('cat',categorical_transformer, cat_features)\n",
    "    ]\n",
    ")\n",
    "X = data.drop('Energy Consumption', axis=1)\n",
    "y = data['Energy Consumption']\n",
    "X = preprocessor.fit_transform(X)\n",
    "X_train, X_test, y_train, y_test = train_test_split(X, y, test_size=.2, random_state=42)"
   ]
  },
  {
   "cell_type": "code",
   "execution_count": 6,
   "metadata": {},
   "outputs": [
    {
     "name": "stdout",
     "output_type": "stream",
     "text": [
      "RandomForest best params: {'bootstrap': True, 'max_depth': None, 'min_samples_leaf': 1, 'min_samples_split': 2, 'n_estimators': 200}\n",
      "RandomForest best score: 0.973288206734925\n",
      "Total time: 284.74564480781555 seconds\n"
     ]
    }
   ],
   "source": [
    "from sklearn.ensemble import RandomForestRegressor\n",
    "time_start = time.time()\n",
    "forest = RandomForestRegressor(random_state=0)\n",
    "forest_params = param_grid = {\n",
    "    'n_estimators': [50, 100, 200],\n",
    "    'max_depth': [None, 10, 20, 30],\n",
    "    'min_samples_split': [2, 5, 10],\n",
    "    'min_samples_leaf': [1, 2, 4],\n",
    "    'bootstrap': [True, False]\n",
    "}\n",
    "forest_grid = GridSearchCV(forest, forest_params)\n",
    "forest_grid.fit(X_train, y_train)\n",
    "print('RandomForest best params:', forest_grid.best_params_)\n",
    "print('RandomForest best score:', forest_grid.best_score_)\n",
    "time_end = time.time()\n",
    "print(f'Total time: {time_end - time_start} seconds') "
   ]
  },
  {
   "cell_type": "code",
   "execution_count": 7,
   "metadata": {},
   "outputs": [
    {
     "name": "stdout",
     "output_type": "stream",
     "text": [
      "Fitting 5 folds for each of 216 candidates, totalling 1080 fits\n",
      "Extra Trees best params: {'bootstrap': False, 'max_depth': None, 'min_samples_leaf': 1, 'min_samples_split': 2, 'n_estimators': 200}\n",
      "Extra Trees best score: -13794.15987198241\n",
      "Total time: 19.454933643341064 seconds\n"
     ]
    }
   ],
   "source": [
    "from sklearn.ensemble import ExtraTreesRegressor\n",
    "time_start = time.time()\n",
    "\n",
    "etr = ExtraTreesRegressor(random_state=0)\n",
    "\n",
    "etr_params = {\n",
    "    'n_estimators': [50, 100, 200],\n",
    "    'max_depth': [None, 10, 20, 30],\n",
    "    'min_samples_split': [2, 5, 10],\n",
    "    'min_samples_leaf': [1, 2, 4],\n",
    "    'bootstrap': [True, False]\n",
    "}\n",
    "\n",
    "etr_grid = GridSearchCV(etr, etr_params, cv=5, n_jobs=-1, verbose=2, scoring='neg_mean_squared_error')\n",
    "etr_grid.fit(X_train, y_train)\n",
    "\n",
    "print('Extra Trees best params:', etr_grid.best_params_)\n",
    "print('Extra Trees best score:', etr_grid.best_score_)\n",
    "\n",
    "time_end = time.time()\n",
    "print(f'Total time: {time_end - time_start} seconds')\n"
   ]
  },
  {
   "cell_type": "code",
   "execution_count": 8,
   "metadata": {},
   "outputs": [
    {
     "name": "stdout",
     "output_type": "stream",
     "text": [
      "Fitting 5 folds for each of 243 candidates, totalling 1215 fits\n",
      "Gradient Boosting best params: {'learning_rate': 0.1, 'max_depth': 3, 'min_samples_leaf': 4, 'min_samples_split': 10, 'n_estimators': 200}\n",
      "Gradient Boosting best score: -6919.601685731203\n",
      "Total time: 48.89579510688782 seconds\n"
     ]
    }
   ],
   "source": [
    "from sklearn.ensemble import GradientBoostingRegressor\n",
    "gbr = GradientBoostingRegressor(random_state=0)\n",
    "\n",
    "gbr_params = {\n",
    "    'n_estimators': [50, 100, 200],\n",
    "    'learning_rate': [0.01, 0.1, 0.2],\n",
    "    'max_depth': [3, 5, 7],\n",
    "    'min_samples_split': [2, 5, 10],\n",
    "    'min_samples_leaf': [1, 2, 4]\n",
    "}\n",
    "\n",
    "gbr_grid = GridSearchCV(gbr, gbr_params, cv=5, n_jobs=-1, verbose=2, scoring='neg_mean_squared_error')\n",
    "gbr_grid.fit(X_train, y_train)\n",
    "\n",
    "print('Gradient Boosting best params:', gbr_grid.best_params_)\n",
    "print('Gradient Boosting best score:', gbr_grid.best_score_)\n",
    "\n",
    "time_end = time.time()\n",
    "print(f'Total time: {time_end - time_start} seconds')"
   ]
  }
 ],
 "metadata": {
  "kernelspec": {
   "display_name": ".venv",
   "language": "python",
   "name": "python3"
  },
  "language_info": {
   "codemirror_mode": {
    "name": "ipython",
    "version": 3
   },
   "file_extension": ".py",
   "mimetype": "text/x-python",
   "name": "python",
   "nbconvert_exporter": "python",
   "pygments_lexer": "ipython3",
   "version": "3.11.0"
  }
 },
 "nbformat": 4,
 "nbformat_minor": 2
}
