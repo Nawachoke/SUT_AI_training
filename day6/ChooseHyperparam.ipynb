{
 "cells": [
  {
   "cell_type": "code",
   "execution_count": 1,
   "metadata": {},
   "outputs": [],
   "source": [
    "from sklearn.datasets import make_classification\n",
    "from sklearn.model_selection import train_test_split\n",
    "from sklearn.ensemble import RandomForestClassifier\n",
    "from sklearn.neighbors import KNeighborsClassifier\n",
    "from sklearn.svm import SVC\n",
    "from sklearn.model_selection import GridSearchCV, RandomizedSearchCV\n",
    "import time"
   ]
  },
  {
   "cell_type": "code",
   "execution_count": 2,
   "metadata": {},
   "outputs": [
    {
     "name": "stdout",
     "output_type": "stream",
     "text": [
      "KNN best params: {'n_neighbors': 5}\n",
      "KNN best score: 0.9087500000000001\n",
      "Total time: 0.48955535888671875 seconds\n"
     ]
    }
   ],
   "source": [
    "X,y = make_classification(n_samples=1000, n_features=4,n_classes=2, random_state=42)\n",
    "X_train, X_test, y_train, y_test = train_test_split(X, y, test_size=0.2, random_state=21)\n",
    "time_start = time.time()\n",
    "knn = KNeighborsClassifier()\n",
    "knn_params = {'n_neighbors': range(1,50,2)}\n",
    "knn_grid = GridSearchCV(knn, knn_params)\n",
    "knn_grid.fit(X_train, y_train) \n",
    "print('KNN best params:', knn_grid.best_params_)\n",
    "print('KNN best score:', knn_grid.best_score_)\n",
    "time_end = time.time()\n",
    "print(f'Total time: {time_end - time_start} seconds')"
   ]
  },
  {
   "cell_type": "code",
   "execution_count": 3,
   "metadata": {},
   "outputs": [
    {
     "name": "stdout",
     "output_type": "stream",
     "text": [
      "RandomForest best params: {'criterion': 'gini', 'n_estimators': 65}\n",
      "RandomForest best score: 0.915\n",
      "Total time: 10.64868974685669 seconds\n"
     ]
    }
   ],
   "source": [
    "time_start = time.time()\n",
    "forest = RandomForestClassifier(random_state=0)\n",
    "forest_params = {'n_estimators': range(10,100,5),\n",
    "                 'criterion': ['gini', 'entropy'],}\n",
    "forest_grid = GridSearchCV(forest, forest_params)\n",
    "forest_grid.fit(X_train, y_train)\n",
    "print('RandomForest best params:', forest_grid.best_params_)\n",
    "print('RandomForest best score:', forest_grid.best_score_)\n",
    "time_end = time.time()\n",
    "print(f'Total time: {time_end - time_start} seconds') "
   ]
  },
  {
   "cell_type": "code",
   "execution_count": 4,
   "metadata": {},
   "outputs": [
    {
     "name": "stdout",
     "output_type": "stream",
     "text": [
      "SVM best params: {'C': 5, 'gamma': 3, 'kernel': 'rbf'}\n",
      "SVM best score: 0.9199999999999999\n",
      "Total time: 12.986167907714844 seconds\n"
     ]
    }
   ],
   "source": [
    "time_start = time.time()\n",
    "svm = SVC()\n",
    "svm_params = [{'kernel': ['linear'], 'C': [0.1, 1, 5, 10, 50,100]},\n",
    "              {'kernel': ['rbf'], 'C': [0.1, 1, 5, 10, 50,100], 'gamma': range(1,10)},\n",
    "              {'kernel': ['poly'], 'C': [0.1, 1, 5, 10, 50,100], 'degree': range(1,10)}]\n",
    "svm_grid = GridSearchCV(svm, svm_params)\n",
    "svm_grid.fit(X_train, y_train)\n",
    "print('SVM best params:', svm_grid.best_params_)\n",
    "print('SVM best score:', svm_grid.best_score_)\n",
    "time_end = time.time()\n",
    "print(f'Total time: {time_end - time_start} seconds')   "
   ]
  },
  {
   "cell_type": "code",
   "execution_count": 5,
   "metadata": {},
   "outputs": [
    {
     "name": "stdout",
     "output_type": "stream",
     "text": [
      "Random KNN best params: {'n_neighbors': 7}\n",
      "Random KNN best score: 0.9075\n",
      "Total time: -0.00609278678894043 seconds\n"
     ]
    }
   ],
   "source": [
    "time_start = time.time()\n",
    "knn = KNeighborsClassifier()\n",
    "knn_params = {'n_neighbors': range(1,50,2)}\n",
    "random_knn = RandomizedSearchCV(knn, knn_params)\n",
    "random_knn.fit(X_train, y_train)\n",
    "print('Random KNN best params:', random_knn.best_params_)\n",
    "print('Random KNN best score:', random_knn.best_score_)\n",
    "tiem_end = time.time()\n",
    "print(f'Total time: {time_end - time_start} seconds')"
   ]
  },
  {
   "cell_type": "code",
   "execution_count": 6,
   "metadata": {},
   "outputs": [
    {
     "name": "stdout",
     "output_type": "stream",
     "text": [
      "RandomForest best params: {'n_estimators': 55, 'criterion': 'gini'}\n",
      "RandomForest best score: 0.91375\n",
      "Total time: 3.6916558742523193 seconds\n"
     ]
    }
   ],
   "source": [
    "forest = RandomForestClassifier(random_state=0)\n",
    "forest_params = {'n_estimators': range(10,100,5),\n",
    "                    'criterion': ['gini', 'entropy'],}\n",
    "random_forest = RandomizedSearchCV(forest, forest_params, n_iter=10)\n",
    "random_forest.fit(X_train, y_train)\n",
    "print('RandomForest best params:', random_forest.best_params_)\n",
    "print('RandomForest best score:', random_forest.best_score_)\n",
    "time_end = time.time()\n",
    "print(f'Total time: {time_end - time_start} seconds')"
   ]
  },
  {
   "cell_type": "code",
   "execution_count": 7,
   "metadata": {},
   "outputs": [
    {
     "name": "stdout",
     "output_type": "stream",
     "text": [
      "Random SVM best params: {'kernel': 'rbf', 'gamma': 3, 'C': 5}\n",
      "Random SVM best score: 0.9199999999999999\n",
      "Total time: 5.4659812450408936 seconds\n"
     ]
    }
   ],
   "source": [
    "svm = SVC()\n",
    "svm_params = [{'kernel': ['linear'], 'C': [0.1, 1, 5, 10, 50,100]},\n",
    "                {'kernel': ['rbf'], 'C': [0.1, 1, 5, 10, 50,100], 'gamma': range(1,10)},\n",
    "                {'kernel': ['poly'], 'C': [0.1, 1, 5, 10, 50,100], 'degree': range(1,10)}]\n",
    "random_svm = RandomizedSearchCV(svm, svm_params, n_iter=10)\n",
    "random_svm.fit(X_train, y_train)\n",
    "print('Random SVM best params:', random_svm.best_params_)\n",
    "print('Random SVM best score:', random_svm.best_score_)\n",
    "time_end = time.time()\n",
    "print(f'Total time: {time_end - time_start} seconds')"
   ]
  },
  {
   "cell_type": "code",
   "execution_count": null,
   "metadata": {},
   "outputs": [],
   "source": []
  }
 ],
 "metadata": {
  "kernelspec": {
   "display_name": ".venv",
   "language": "python",
   "name": "python3"
  },
  "language_info": {
   "codemirror_mode": {
    "name": "ipython",
    "version": 3
   },
   "file_extension": ".py",
   "mimetype": "text/x-python",
   "name": "python",
   "nbconvert_exporter": "python",
   "pygments_lexer": "ipython3",
   "version": "3.13.1"
  }
 },
 "nbformat": 4,
 "nbformat_minor": 2
}
